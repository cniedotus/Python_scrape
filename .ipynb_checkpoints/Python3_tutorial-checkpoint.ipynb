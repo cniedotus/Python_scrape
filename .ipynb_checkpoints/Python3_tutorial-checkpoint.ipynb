{
 "cells": [
  {
   "cell_type": "markdown",
   "metadata": {},
   "source": [
    "# <center> Python and MySQL tutorial </center>\n",
    "\n",
    "<center> Author: Cheng Nie </center>\n",
    "<center> Check [chengnie.com](chengnie.com) for the most recent version </center>\n",
    "<center> Current Version: Feb 11, 2016</center>\n",
    "\n"
   ]
  },
  {
   "cell_type": "markdown",
   "metadata": {
    "slideshow": {
     "slide_type": "slide"
    }
   },
   "source": [
    "# Python Setup\n",
    "\n",
    "Since most students in this class use Windows 7, I will use Windows 7 for illustration of the setup. Setting up the environmnet in Mac OS and Linux should be similar. Please note that the code should produce the same results whichever operating system (even on your smart phone) you are using because Python is platform independent.\n",
    "\n",
    "Download the Python 3.5 version of Anaconda that matches your operating system from this [link](https://www.continuum.io/downloads). You can accept the default options during installation. To see if your Windows is 32 bit or 64 bit, check [here](http://windows.microsoft.com/en-us/windows7/find-out-32-or-64-bit)\n",
    "\n",
    "You can save and run this document using the Jupyter notebook (previously known as IPython notebook). Another tool that I recommend would be [PyCharm](https://www.jetbrains.com/pycharm/), which has a free community edition. \n",
    "\n",
    "This is a tutorial based on the official [Python Tutorial for Python 3.5.1](https://docs.python.org/3.5/tutorial/index.html). If you need a little more motivation to learn this programming language, consider reading this [article](https://docs.python.org/3.5/tutorial/appetite.html). "
   ]
  },
  {
   "cell_type": "markdown",
   "metadata": {},
   "source": [
    "# Numbers"
   ]
  },
  {
   "cell_type": "code",
   "execution_count": null,
   "metadata": {
    "collapsed": false
   },
   "outputs": [],
   "source": [
    "width = 20\n",
    "height = 5*9\n",
    "width * height"
   ]
  },
  {
   "cell_type": "markdown",
   "metadata": {},
   "source": [
    "## Calculator"
   ]
  },
  {
   "cell_type": "code",
   "execution_count": null,
   "metadata": {
    "collapsed": false
   },
   "outputs": [],
   "source": [
    "tax = 8.25 / 100\n",
    "price = 100.50\n",
    "price * tax"
   ]
  },
  {
   "cell_type": "code",
   "execution_count": null,
   "metadata": {
    "collapsed": false
   },
   "outputs": [],
   "source": [
    "price + _"
   ]
  },
  {
   "cell_type": "code",
   "execution_count": null,
   "metadata": {
    "collapsed": false
   },
   "outputs": [],
   "source": [
    "round(_, 2)"
   ]
  },
  {
   "cell_type": "markdown",
   "metadata": {},
   "source": [
    "# Strings"
   ]
  },
  {
   "cell_type": "code",
   "execution_count": null,
   "metadata": {
    "collapsed": false
   },
   "outputs": [],
   "source": [
    "print('spam email')"
   ]
  },
  {
   "cell_type": "markdown",
   "metadata": {},
   "source": [
    "## show ' and \" in a string"
   ]
  },
  {
   "cell_type": "code",
   "execution_count": null,
   "metadata": {
    "collapsed": false
   },
   "outputs": [],
   "source": [
    "# This would cause error \n",
    "print('doesn't')"
   ]
  },
  {
   "cell_type": "code",
   "execution_count": null,
   "metadata": {
    "collapsed": false
   },
   "outputs": [],
   "source": [
    "# One way of doing it correctly\n",
    "print('doesn\\'t')"
   ]
  },
  {
   "cell_type": "code",
   "execution_count": null,
   "metadata": {
    "collapsed": false
   },
   "outputs": [],
   "source": [
    "# Another way of doing it correctly\n",
    "print(\"doesn't\")"
   ]
  },
  {
   "cell_type": "markdown",
   "metadata": {},
   "source": [
    "## span multiple lines"
   ]
  },
  {
   "cell_type": "code",
   "execution_count": null,
   "metadata": {
    "collapsed": false
   },
   "outputs": [],
   "source": [
    "print('''\n",
    "Usage: thingy [OPTIONS]\n",
    "     -h                        Display this usage message\n",
    "     -H hostname               Hostname to connect to\n",
    "''')"
   ]
  },
  {
   "cell_type": "code",
   "execution_count": null,
   "metadata": {
    "collapsed": false
   },
   "outputs": [],
   "source": [
    "print('''Cheng highly recommends Python programming language''')"
   ]
  },
  {
   "cell_type": "markdown",
   "metadata": {},
   "source": [
    "# slice and index"
   ]
  },
  {
   "cell_type": "code",
   "execution_count": null,
   "metadata": {
    "collapsed": false
   },
   "outputs": [],
   "source": [
    "word = 'HELP' + 'A'\n",
    "word"
   ]
  },
  {
   "cell_type": "markdown",
   "metadata": {},
   "source": [
    "Index in the Python way"
   ]
  },
  {
   "cell_type": "code",
   "execution_count": null,
   "metadata": {
    "collapsed": false
   },
   "outputs": [],
   "source": [
    "word[0]"
   ]
  },
  {
   "cell_type": "code",
   "execution_count": null,
   "metadata": {
    "collapsed": false
   },
   "outputs": [],
   "source": [
    "word[4]"
   ]
  },
  {
   "cell_type": "code",
   "execution_count": null,
   "metadata": {
    "collapsed": false
   },
   "outputs": [],
   "source": [
    "# endding index not included\n",
    "word[0:2]"
   ]
  },
  {
   "cell_type": "code",
   "execution_count": null,
   "metadata": {
    "collapsed": false
   },
   "outputs": [],
   "source": [
    "word[2:4]"
   ]
  },
  {
   "cell_type": "code",
   "execution_count": null,
   "metadata": {
    "collapsed": false
   },
   "outputs": [],
   "source": [
    "# length of a string\n",
    "len(word)"
   ]
  },
  {
   "cell_type": "markdown",
   "metadata": {},
   "source": [
    "# List"
   ]
  },
  {
   "cell_type": "code",
   "execution_count": null,
   "metadata": {
    "collapsed": false
   },
   "outputs": [],
   "source": [
    "a = ['spam', 'eggs', 100, 1234]\n",
    "a"
   ]
  },
  {
   "cell_type": "code",
   "execution_count": null,
   "metadata": {
    "collapsed": false
   },
   "outputs": [],
   "source": [
    "a[0]"
   ]
  },
  {
   "cell_type": "code",
   "execution_count": null,
   "metadata": {
    "collapsed": false
   },
   "outputs": [],
   "source": [
    "a[3]"
   ]
  },
  {
   "cell_type": "code",
   "execution_count": null,
   "metadata": {
    "collapsed": false
   },
   "outputs": [],
   "source": [
    "a[2:4]"
   ]
  },
  {
   "cell_type": "code",
   "execution_count": null,
   "metadata": {
    "collapsed": false
   },
   "outputs": [],
   "source": [
    "sum(a[2:4])"
   ]
  },
  {
   "cell_type": "markdown",
   "metadata": {},
   "source": [
    "Built-in functions like `sum` and `len` are explained in the document too. Here is a [link](https://docs.python.org/3.5/library/functions.html) to it. "
   ]
  },
  {
   "cell_type": "markdown",
   "metadata": {},
   "source": [
    "## Mutable"
   ]
  },
  {
   "cell_type": "code",
   "execution_count": null,
   "metadata": {
    "collapsed": false
   },
   "outputs": [],
   "source": [
    "a"
   ]
  },
  {
   "cell_type": "code",
   "execution_count": null,
   "metadata": {
    "collapsed": false
   },
   "outputs": [],
   "source": [
    "a[2] = a[2] + 23\n",
    "a"
   ]
  },
  {
   "cell_type": "markdown",
   "metadata": {},
   "source": [
    "## Nest lists"
   ]
  },
  {
   "cell_type": "code",
   "execution_count": null,
   "metadata": {
    "collapsed": false
   },
   "outputs": [],
   "source": [
    "q = [2, 3]\n",
    "p = [1, q, 4]\n",
    "p"
   ]
  },
  {
   "cell_type": "code",
   "execution_count": null,
   "metadata": {
    "collapsed": true
   },
   "outputs": [],
   "source": [
    "len(p)"
   ]
  },
  {
   "cell_type": "code",
   "execution_count": null,
   "metadata": {
    "collapsed": false
   },
   "outputs": [],
   "source": [
    "p[1]"
   ]
  },
  {
   "cell_type": "code",
   "execution_count": null,
   "metadata": {
    "collapsed": false
   },
   "outputs": [],
   "source": [
    "p[1][0]"
   ]
  },
  {
   "cell_type": "markdown",
   "metadata": {},
   "source": [
    "## tuple\n",
    "similar to list, but immutable (element cannot be changed)"
   ]
  },
  {
   "cell_type": "code",
   "execution_count": null,
   "metadata": {
    "collapsed": false
   },
   "outputs": [],
   "source": [
    "x=(1,2,3,4)\n",
    "x[0]"
   ]
  },
  {
   "cell_type": "code",
   "execution_count": null,
   "metadata": {
    "collapsed": false
   },
   "outputs": [],
   "source": [
    "x[0]=7 # it will raise error since tuple is immutable"
   ]
  },
  {
   "cell_type": "markdown",
   "metadata": {},
   "source": [
    "# dict"
   ]
  },
  {
   "cell_type": "code",
   "execution_count": null,
   "metadata": {
    "collapsed": false
   },
   "outputs": [],
   "source": [
    "tel = {'jack': 4098, 'sam': 4139}\n",
    "tel['dan'] = 4127\n",
    "tel"
   ]
  },
  {
   "cell_type": "code",
   "execution_count": null,
   "metadata": {
    "collapsed": false
   },
   "outputs": [],
   "source": [
    "tel['jack']"
   ]
  },
  {
   "cell_type": "code",
   "execution_count": null,
   "metadata": {
    "collapsed": false
   },
   "outputs": [],
   "source": [
    "del tel['sam']\n",
    "tel"
   ]
  },
  {
   "cell_type": "code",
   "execution_count": null,
   "metadata": {
    "collapsed": false
   },
   "outputs": [],
   "source": [
    "tel['mike'] = 4127\n",
    "tel"
   ]
  },
  {
   "cell_type": "code",
   "execution_count": null,
   "metadata": {
    "collapsed": false
   },
   "outputs": [],
   "source": [
    "# Is dan in the dict?\n",
    "'dan' in tel"
   ]
  },
  {
   "cell_type": "code",
   "execution_count": null,
   "metadata": {
    "collapsed": false
   },
   "outputs": [],
   "source": [
    "for key in tel:\n",
    "    print('key:', key, '; value:', tel[key])"
   ]
  },
  {
   "cell_type": "markdown",
   "metadata": {},
   "source": [
    "Quiz: how to print the tel dict sorted by the key?"
   ]
  },
  {
   "cell_type": "markdown",
   "metadata": {},
   "source": [
    "# Control of flow"
   ]
  },
  {
   "cell_type": "markdown",
   "metadata": {},
   "source": [
    "### if "
   ]
  },
  {
   "cell_type": "markdown",
   "metadata": {},
   "source": [
    "Ask a user to input a number, if it's negative, x=0, else if it's 1"
   ]
  },
  {
   "cell_type": "code",
   "execution_count": null,
   "metadata": {
    "collapsed": false
   },
   "outputs": [],
   "source": [
    "x = int(input(\"Please enter an integer for x: \"))\n",
    "if x < 0:\n",
    "     x = 0\n",
    "     print('Negative; changed to zero')\n",
    "elif x == 0:\n",
    "     print('Zero')\n",
    "elif x == 1:\n",
    "     print('Single')\n",
    "else:\n",
    "     print('More')"
   ]
  },
  {
   "cell_type": "markdown",
   "metadata": {},
   "source": [
    "### while\n",
    "Fibonacci series: the sum of two elements defines the next with the first two elements to be 0 and 1. "
   ]
  },
  {
   "cell_type": "code",
   "execution_count": null,
   "metadata": {
    "collapsed": false
   },
   "outputs": [],
   "source": [
    "a, b = 0, 1 # multiple assignment\n",
    "while a < 10:\n",
    " print(a)\n",
    " a, b = b, a+b"
   ]
  },
  {
   "cell_type": "markdown",
   "metadata": {},
   "source": [
    "### for "
   ]
  },
  {
   "cell_type": "code",
   "execution_count": null,
   "metadata": {
    "collapsed": false
   },
   "outputs": [],
   "source": [
    "# Measure some strings:\n",
    "words = ['cat', 'window', 'defenestrate']\n",
    "for i in words:\n",
    "    print(i, len(i))"
   ]
  },
  {
   "cell_type": "markdown",
   "metadata": {},
   "source": [
    "# Define function"
   ]
  },
  {
   "cell_type": "code",
   "execution_count": null,
   "metadata": {
    "collapsed": true
   },
   "outputs": [],
   "source": [
    "def fib(n):    # write Fibonacci series up to n\n",
    "    \"\"\"Print a Fibonacci series up to n.\"\"\"\n",
    "    a, b = 0, 1\n",
    "    while a < n:\n",
    "        print(a)\n",
    "        a, b = b, a+b"
   ]
  },
  {
   "cell_type": "code",
   "execution_count": null,
   "metadata": {
    "collapsed": false
   },
   "outputs": [],
   "source": [
    "fib(200)"
   ]
  },
  {
   "cell_type": "code",
   "execution_count": null,
   "metadata": {
    "collapsed": false
   },
   "outputs": [],
   "source": [
    "fib(2000000000000000) # do not need to worry about the type of a,b"
   ]
  },
  {
   "cell_type": "markdown",
   "metadata": {},
   "source": [
    "# Data I/O \n",
    "Create some data in Python and populate the database with the created data. We want to create a table with 3 columns: id, name, and age to store information about 50 kids in a day care. \n",
    "\n",
    "The various modules that extend the basic Python funtions are indexed [here](https://docs.python.org/3.5/py-modindex.html). "
   ]
  },
  {
   "cell_type": "code",
   "execution_count": null,
   "metadata": {
    "collapsed": false
   },
   "outputs": [],
   "source": [
    "# output for viewing first\n",
    "\n",
    "import string\n",
    "import random\n",
    "\n",
    "# fix the pseudo-random sequences for easy replication \n",
    "# It will generate the same random sequences \n",
    "# of nubmers/letters with the same seed. \n",
    "random.seed(123) \n",
    "\n",
    "for i in range(50):\n",
    "# Data values separated by comma(csv file)\n",
    "    print(i+1,random.choice(string.ascii_uppercase),\n",
    "          random.choice(range(6)), sep=',')"
   ]
  },
  {
   "cell_type": "code",
   "execution_count": null,
   "metadata": {
    "collapsed": false
   },
   "outputs": [],
   "source": [
    "# write the data to a file \n",
    "random.seed(123)\n",
    "out_file=open('data.csv','w')\n",
    "columns=['id','name','age']\n",
    "out_file.write(','.join(columns)+'\\n')\n",
    "for i in range(50):\n",
    "    row=[str(i+1),random.choice(string.ascii_uppercase),\n",
    "         str(random.choice(range(6)))]\n",
    "    out_file.write(','.join(row)+'\\n')\n",
    "else:\n",
    "    out_file.close()"
   ]
  },
  {
   "cell_type": "code",
   "execution_count": null,
   "metadata": {
    "collapsed": false
   },
   "outputs": [],
   "source": [
    "# read data into Python\n",
    "for line in open('data.csv', 'r'):\n",
    "    print(line)"
   ]
  },
  {
   "cell_type": "markdown",
   "metadata": {},
   "source": [
    "# MySQL\n",
    "\n",
    "Install MySQL 5.7 Workbench first following this [link](https://dev.mysql.com/downloads/workbench/). You might also need to install the prerequisites listed [here](http://dev.mysql.com/resources/wb62_prerequisites.html) before you can install the Workbench. The Workbench is an interface to interact with MySQL database. The actual MySQL database server requires a second step: run the MySQL Installer, then add and intall the MySQL servers using the Installer. You can accept the default options during installation. Later, you will connect to MySQL using the password you set during the installation and configuration. I set the password to be `pythonClass`.\n",
    "\n",
    "\n",
    "The documentation for MySQL is [here](http://dev.mysql.com/doc/refman/5.7/en/).\n",
    "\n",
    "\n",
    "To get comfortable with it, you might find [this tutorial](http://www.w3schools.com/sql/) of Structured Query Language(SQL) to be helpful. "
   ]
  },
  {
   "cell_type": "raw",
   "metadata": {},
   "source": [
    "These commands are executed in MySQL query tab, not in Python. \n",
    "\n",
    "In mysql, you need to end all commands with ;\n",
    "\n",
    "\n",
    "----------------------- In MySQL ------------------\n",
    "\n",
    "show databases;\n",
    "\n",
    "create database test;\n",
    "\n",
    "use test;\n",
    "\n",
    "show tables;\n",
    "\n",
    "create table example(\n",
    "id int not null,\n",
    "name varchar(30),\n",
    "age tinyint,\n",
    "primary key(id));\n",
    "\n",
    "show tables;\n",
    "\n",
    "desc example;\n",
    "\n",
    "load data local infile \"C:\\\\Users\\\\cnie\\\\Downloads\\\\data.csv\" into table test.example FIELDS TERMINATED BY ',' lines terminated by '\\r\\n' ignore 1 lines;\n",
    "\n",
    "select * from example;"
   ]
  },
  {
   "cell_type": "markdown",
   "metadata": {},
   "source": [
    "# Crawl the reviews for UT Dallas at Yelp.com"
   ]
  },
  {
   "cell_type": "code",
   "execution_count": null,
   "metadata": {
    "collapsed": false
   },
   "outputs": [],
   "source": [
    "# crawl_UTD_reviews\n",
    "# Author: Cheng Nie\n",
    "# Email: me@chengnie.com\n",
    "# Date: Feb 8, 2016\n",
    "\n",
    "from urllib.request import urlopen\n",
    "\n",
    "num_pages = 2\n",
    "reviews_per_page = 20\n",
    "out_file = open('UTD_reviews.csv', 'w')\n",
    "url = 'http://www.yelp.com/biz/university-of-texas-at-dallas-\\\n",
    "richardson?start={start_number}'\n",
    "review_start_pattern = '<div class=\"review-wrapper\">'\n",
    "rating_pattern = '<i class=\"star-img stars_'\n",
    "date_pattern = '\"datePublished\" content=\"'\n",
    "reviews_count = 0\n",
    "\n",
    "for page in range(num_pages):\n",
    "\n",
    "    print('processing page', page)\n",
    "    html = urlopen(url.format(start_number = page * reviews_per_page))\n",
    "    page_content = html.read().decode('utf-8')\n",
    "    review_start = page_content.find(review_start_pattern)\n",
    "\n",
    "    while review_start != -1:\n",
    "        # it means there are more reviews to be crawled\n",
    "        reviews_count += 1\n",
    "\n",
    "        # get the rating\n",
    "        cut_front = page_content.find(rating_pattern, review_start) \\\n",
    "                    + len(rating_pattern)\n",
    "        cut_end = page_content.find('\" title=\"', cut_front)\n",
    "        rating = page_content[cut_front:cut_end]\n",
    "\n",
    "        # get the date\n",
    "        cut_front = page_content.find(date_pattern, cut_end) \\\n",
    "                    + len(date_pattern)\n",
    "        cut_end = page_content.find('\">', cut_front)\n",
    "        date = page_content[cut_front:cut_end]\n",
    "\n",
    "        # save the data into out_file\n",
    "        out_file.write(','.join([rating, date]) + '\\n')\n",
    "        review_start = page_content.find(review_start_pattern, cut_end)\n",
    "\n",
    "    print('crawled', reviews_count, 'reviews so far')\n",
    "\n",
    "\n",
    "out_file.close()"
   ]
  },
  {
   "cell_type": "raw",
   "metadata": {
    "collapsed": false
   },
   "source": [
    "You can save the code in the cell above into a notebook file named \n",
    "crawl_BOM.ipynb in the same directory as this Jupyter notebook. \n",
    "Then you can run the Python code from that cell in the new notebook. \n",
    "You can modify it for your homework submission. "
   ]
  },
  {
   "cell_type": "markdown",
   "metadata": {},
   "source": [
    "Quiz: import the crawled file into a table in your database. "
   ]
  },
  {
   "cell_type": "markdown",
   "metadata": {},
   "source": [
    "# More about index"
   ]
  },
  {
   "cell_type": "code",
   "execution_count": null,
   "metadata": {
    "collapsed": false
   },
   "outputs": [],
   "source": [
    "word"
   ]
  },
  {
   "cell_type": "code",
   "execution_count": null,
   "metadata": {
    "collapsed": false
   },
   "outputs": [],
   "source": [
    "# first index default to 0 and second index default to the size\n",
    "word[:2]"
   ]
  },
  {
   "cell_type": "code",
   "execution_count": null,
   "metadata": {
    "collapsed": false
   },
   "outputs": [],
   "source": [
    "# It's equivalent to \n",
    "word[0:2]"
   ]
  },
  {
   "cell_type": "code",
   "execution_count": null,
   "metadata": {
    "collapsed": false
   },
   "outputs": [],
   "source": [
    "# Everything except the first two characters\n",
    "word[2:]"
   ]
  },
  {
   "cell_type": "code",
   "execution_count": null,
   "metadata": {
    "collapsed": false
   },
   "outputs": [],
   "source": [
    "# It's equivalent to \n",
    "word[2:len(word)]    "
   ]
  },
  {
   "cell_type": "code",
   "execution_count": null,
   "metadata": {
    "collapsed": false
   },
   "outputs": [],
   "source": [
    "# start: end: step\n",
    "word[0::2]"
   ]
  },
  {
   "cell_type": "markdown",
   "metadata": {},
   "source": [
    "## Target: \"HLA\", select every other character"
   ]
  },
  {
   "cell_type": "code",
   "execution_count": null,
   "metadata": {
    "collapsed": false
   },
   "outputs": [],
   "source": [
    "word[0:len(word):2]"
   ]
  },
  {
   "cell_type": "markdown",
   "metadata": {},
   "source": [
    "## Negative index"
   ]
  },
  {
   "cell_type": "code",
   "execution_count": null,
   "metadata": {
    "collapsed": false
   },
   "outputs": [],
   "source": [
    "word[-1]     # The last character"
   ]
  },
  {
   "cell_type": "code",
   "execution_count": null,
   "metadata": {
    "collapsed": false
   },
   "outputs": [],
   "source": [
    "word[-2]     # The last-but-one character"
   ]
  },
  {
   "cell_type": "code",
   "execution_count": null,
   "metadata": {
    "collapsed": false
   },
   "outputs": [],
   "source": [
    "word[-2:]    # The last two characters"
   ]
  },
  {
   "cell_type": "code",
   "execution_count": null,
   "metadata": {
    "collapsed": false
   },
   "outputs": [],
   "source": [
    "word[:-2]    # Everything except the last two characters"
   ]
  },
  {
   "cell_type": "markdown",
   "metadata": {},
   "source": [
    "# More about list"
   ]
  },
  {
   "cell_type": "code",
   "execution_count": null,
   "metadata": {
    "collapsed": true
   },
   "outputs": [],
   "source": [
    "a"
   ]
  },
  {
   "cell_type": "code",
   "execution_count": null,
   "metadata": {
    "collapsed": false
   },
   "outputs": [],
   "source": [
    "a[-2]"
   ]
  },
  {
   "cell_type": "code",
   "execution_count": null,
   "metadata": {
    "collapsed": false
   },
   "outputs": [],
   "source": [
    "a[1:-1]"
   ]
  },
  {
   "cell_type": "code",
   "execution_count": null,
   "metadata": {
    "collapsed": false
   },
   "outputs": [],
   "source": [
    "a[:2] + ['bacon', 2*2]"
   ]
  },
  {
   "cell_type": "code",
   "execution_count": null,
   "metadata": {
    "collapsed": false
   },
   "outputs": [],
   "source": [
    "3*a[:3] + ['Boo!']"
   ]
  },
  {
   "cell_type": "markdown",
   "metadata": {},
   "source": [
    "## Versatile features"
   ]
  },
  {
   "cell_type": "code",
   "execution_count": null,
   "metadata": {
    "collapsed": false
   },
   "outputs": [],
   "source": [
    "# Replace some items:\n",
    "a[0:2] = [1, 12]\n",
    "a"
   ]
  },
  {
   "cell_type": "code",
   "execution_count": null,
   "metadata": {
    "collapsed": false
   },
   "outputs": [],
   "source": [
    "# Remove some:\n",
    "a[0:2] = [] # or del a[0:2]\n",
    "a"
   ]
  },
  {
   "cell_type": "code",
   "execution_count": null,
   "metadata": {
    "collapsed": false
   },
   "outputs": [],
   "source": [
    "# Insert some:\n",
    "a[1:1] = ['insert', 'some']\n",
    "a"
   ]
  },
  {
   "cell_type": "code",
   "execution_count": null,
   "metadata": {
    "collapsed": false
   },
   "outputs": [],
   "source": [
    "# inserting at one position is not the same as changing one element\n",
    "# a=[1, 12, 100, 1234]\n",
    "a = [123, 1234]\n",
    "sum(a)\n",
    "a[1] = ['insert', 'some']\n",
    "a"
   ]
  },
  {
   "cell_type": "markdown",
   "metadata": {},
   "source": [
    "## Target: Get the third power of integers between 0 and 10."
   ]
  },
  {
   "cell_type": "code",
   "execution_count": null,
   "metadata": {
    "collapsed": false
   },
   "outputs": [],
   "source": [
    "# loop way\n",
    "cubes = []\n",
    "for x in range(11):\n",
    "        cubes.append(x**3)\n",
    "cubes"
   ]
  },
  {
   "cell_type": "code",
   "execution_count": null,
   "metadata": {
    "collapsed": false
   },
   "outputs": [],
   "source": [
    "# map way\n",
    "def cube(x): \n",
    "    return x*x*x\n",
    "\n",
    "list(map(cube, range(11)))"
   ]
  },
  {
   "cell_type": "code",
   "execution_count": null,
   "metadata": {
    "collapsed": false
   },
   "outputs": [],
   "source": [
    "# list comprehension way\n",
    "x_list=[x**3 for x in range(11)]\n",
    "x_list"
   ]
  },
  {
   "cell_type": "markdown",
   "metadata": {},
   "source": [
    "### Use `if` in list comprehension\n",
    "Target: find the even number below 10"
   ]
  },
  {
   "cell_type": "code",
   "execution_count": null,
   "metadata": {
    "collapsed": false
   },
   "outputs": [],
   "source": [
    "result = []\n",
    "for i in range(11):\n",
    "    if i%2 == 0:\n",
    "        result.append(i)\n",
    "else:\n",
    "    print(result)"
   ]
  },
  {
   "cell_type": "code",
   "execution_count": null,
   "metadata": {
    "collapsed": false
   },
   "outputs": [],
   "source": [
    "[i for i in range(11) if i%2==0]"
   ]
  },
  {
   "cell_type": "code",
   "execution_count": null,
   "metadata": {
    "collapsed": false
   },
   "outputs": [],
   "source": [
    "l=[1,3,5,6,8,10]\n",
    "[i for i in l if i%2==0]"
   ]
  },
  {
   "cell_type": "markdown",
   "metadata": {},
   "source": [
    "# Interact MySQL with Python"
   ]
  },
  {
   "cell_type": "markdown",
   "metadata": {
    "collapsed": true
   },
   "source": [
    "Since the official MySQL 5.7.11 provides support for Python upto Version 3.4, we need to install a package to provide to support the Python 3.5. Execute the following line in Windows command line to install it. "
   ]
  },
  {
   "cell_type": "raw",
   "metadata": {
    "collapsed": false
   },
   "source": [
    "#\n",
    "# ----------------------- In Windows command line(cmd) ------------------\n",
    "\n",
    "conda  install mysql-connector-python"
   ]
  },
  {
   "cell_type": "code",
   "execution_count": null,
   "metadata": {
    "collapsed": false
   },
   "outputs": [],
   "source": [
    "#\n",
    "# ----------------------- In Python ------------------\n",
    "\n",
    "# access table from Python\n",
    "\n",
    "# connect to MySQL in Python\n",
    "import mysql.connector\n",
    "cnx = mysql.connector.connect(user='root',\n",
    "                              password='pythonClass',\n",
    "                              database='test')\n",
    "# All DDL (Data Definition Language) statements are \n",
    "# executed using a handle structure known as a cursor\n",
    "cursor = cnx.cursor()\n",
    "\n",
    "#cursor.execute(\"\")\n",
    "# write the same data to the example table\n",
    "query0 = '''insert into example (id, name, age) \\\n",
    "values ({id_num},\"{c_name}\",{c_age});'''\n",
    "random.seed(123)\n",
    "for i in range(50):\n",
    "    query1 = query0.format(id_num = i+1,\n",
    "                           c_name = random.choice(string.ascii_uppercase),\n",
    "                           c_age = random.choice(range(6)))\n",
    "    print(query1)\n",
    "    cursor.execute(query1)\n",
    "    cnx.commit()\n",
    "    \n",
    "    "
   ]
  },
  {
   "cell_type": "markdown",
   "metadata": {},
   "source": [
    "To get better understanding of the table we just created. We will use MySQL command line again. "
   ]
  },
  {
   "cell_type": "raw",
   "metadata": {},
   "source": [
    "----------------------- In MySQL ------------------\n",
    "\n",
    "# To get the number of records.\n",
    "select count(*) from example;\n",
    "\n",
    "# To get age histgram:\n",
    "select distinct age, count(*) from example group by age;\n",
    "\n",
    "# create a copy of the example table for modifying.\n",
    "drop table if exists e_copy;\n",
    "create table e_copy select * from example;\n",
    "alter table e_copy add primary key(id);"
   ]
  },
  {
   "cell_type": "raw",
   "metadata": {},
   "source": [
    "insert into e_copy (id, name, age) values (null,'P',6);\n",
    "insert into e_copy (id, name, age) values (3,'P',6); \n",
    "insert into e_copy (id, name, age) values (51,'P',6);\n",
    "insert into e_copy (id, name, age) values (52,'Q',null);\n",
    "insert into e_copy (id, name, age) values (54,'Q',null),(55,'Q',null);\n",
    "insert into e_copy (id, name) values (53,'Q');\n",
    "update e_copy set age=7 where id=53;\n",
    "update e_copy set age=DEFAULT where id=53;\n",
    "update e_copy set age='' where id=53;\n",
    "\n",
    "select sum(age) from e_copy;\n",
    "select avg(age) from e_copy;\n",
    "select * from e_copy where age<3 and name<=\"C\";"
   ]
  },
  {
   "cell_type": "code",
   "execution_count": null,
   "metadata": {
    "collapsed": false
   },
   "outputs": [],
   "source": [
    "#\n",
    "# ----------------------- In Python ------------------\n",
    "# \n",
    "cursor.execute('select * from e_copy;')\n",
    "for i in cursor:\n",
    "    print(i)"
   ]
  },
  {
   "cell_type": "code",
   "execution_count": null,
   "metadata": {
    "collapsed": false
   },
   "outputs": [],
   "source": [
    "#\n",
    "# ----------------------- In Python ------------------\n",
    "# \n",
    "# # example for adding new info for existing record\n",
    "# cursor.execute('alter table e_copy add mother_name varchar(1) default null')\n",
    "query='update e_copy set mother_name=\"{m_name}\" where id={id_num};'\n",
    "# random.seed(333)\n",
    "\n",
    "for i in range(50):\n",
    "    query1=query.format(m_name = random.choice(string.ascii_uppercase),id_num = i+1)\n",
    "    print(query1)\n",
    "    cursor.execute(query1)\n",
    "    cnx.commit()\n",
    " "
   ]
  },
  {
   "cell_type": "code",
   "execution_count": null,
   "metadata": {
    "collapsed": false
   },
   "outputs": [],
   "source": [
    "#\n",
    "# ----------------------- In Python ------------------\n",
    "# \n",
    "\n",
    "# example for insert new records\n",
    "query2='insert into e_copy (id, name,age,mother_name) \\\n",
    "values ({id_num},\"{c_name}\",{c_age},\"{m_name}\")'    \n",
    "for i in range(10):\n",
    "    query3=query2.format(id_num = i+60, \n",
    "                         c_name = random.choice(string.ascii_uppercase), \n",
    "                         c_age = random.randint(0,6),\n",
    "                         m_name = random.choice(string.ascii_uppercase))\n",
    "    print(query3)\n",
    "    cursor.execute(query3)\n",
    "    cnx.commit()\n",
    "\n",
    "# check if you've updated the data successfully in MySQL"
   ]
  },
  {
   "cell_type": "markdown",
   "metadata": {},
   "source": [
    "# Regular expression in Python"
   ]
  },
  {
   "cell_type": "code",
   "execution_count": null,
   "metadata": {
    "collapsed": false
   },
   "outputs": [],
   "source": [
    "import re\n",
    "# digits\n",
    "# find all the numbers \n",
    "infile=open('digits.txt','r')\n",
    "content=infile.read()\n",
    "print(content)"
   ]
  },
  {
   "cell_type": "code",
   "execution_count": null,
   "metadata": {
    "collapsed": false
   },
   "outputs": [],
   "source": [
    "# Find all the numbers in the file\n",
    "numbers=re.findall(r'\\d+',content)\n",
    "for n in numbers:\n",
    "        print(n)\n",
    "        "
   ]
  },
  {
   "cell_type": "code",
   "execution_count": null,
   "metadata": {
    "collapsed": false
   },
   "outputs": [],
   "source": [
    "# find equations\n",
    "equations=re.findall(r'(\\d+)=\\d+',content)\n",
    "for e in equations:\n",
    "        print(e)"
   ]
  },
  {
   "cell_type": "code",
   "execution_count": null,
   "metadata": {
    "collapsed": false
   },
   "outputs": [],
   "source": [
    "# subsitute equations to correct them\n",
    "print(re.sub(r'(\\d+)=\\d+',r'\\1=\\1',content))"
   ]
  },
  {
   "cell_type": "code",
   "execution_count": null,
   "metadata": {
    "collapsed": false
   },
   "outputs": [],
   "source": [
    "# Save to file\n",
    "print(re.sub(r'(\\d+)=\\d+',r'\\1=\\1',content), file = open('digits_corrected.txt', 'w'))"
   ]
  }
 ],
 "metadata": {
  "kernelspec": {
   "display_name": "Python 3",
   "language": "python",
   "name": "python3"
  },
  "language_info": {
   "codemirror_mode": {
    "name": "ipython",
    "version": 3
   },
   "file_extension": ".py",
   "mimetype": "text/x-python",
   "name": "python",
   "nbconvert_exporter": "python",
   "pygments_lexer": "ipython3",
   "version": "3.5.1"
  }
 },
 "nbformat": 4,
 "nbformat_minor": 0
}
